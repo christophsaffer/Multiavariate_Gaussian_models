{
 "cells": [
  {
   "cell_type": "code",
   "execution_count": 52,
   "metadata": {
    "scrolled": true
   },
   "outputs": [
    {
     "data": {
      "text/html": [
       "<div>\n",
       "<style>\n",
       "    .dataframe thead tr:only-child th {\n",
       "        text-align: right;\n",
       "    }\n",
       "\n",
       "    .dataframe thead th {\n",
       "        text-align: left;\n",
       "    }\n",
       "\n",
       "    .dataframe tbody tr th {\n",
       "        vertical-align: top;\n",
       "    }\n",
       "</style>\n",
       "<table border=\"1\" class=\"dataframe\">\n",
       "  <thead>\n",
       "    <tr style=\"text-align: right;\">\n",
       "      <th></th>\n",
       "      <th>educ</th>\n",
       "      <th>di01a</th>\n",
       "      <th>eastwest</th>\n",
       "      <th>sex</th>\n",
       "      <th>age</th>\n",
       "      <th>pa02a</th>\n",
       "      <th>pv01</th>\n",
       "    </tr>\n",
       "  </thead>\n",
       "  <tbody>\n",
       "    <tr>\n",
       "      <th>0</th>\n",
       "      <td>MITTLERE REIFE</td>\n",
       "      <td>1800</td>\n",
       "      <td>NEUE BUNDESLAENDER</td>\n",
       "      <td>FRAU</td>\n",
       "      <td>47</td>\n",
       "      <td>WENIG</td>\n",
       "      <td>DIE LINKE</td>\n",
       "    </tr>\n",
       "    <tr>\n",
       "      <th>1</th>\n",
       "      <td>MITTLERE REIFE</td>\n",
       "      <td>2000</td>\n",
       "      <td>NEUE BUNDESLAENDER</td>\n",
       "      <td>MANN</td>\n",
       "      <td>52</td>\n",
       "      <td>STARK</td>\n",
       "      <td>FDP</td>\n",
       "    </tr>\n",
       "    <tr>\n",
       "      <th>2</th>\n",
       "      <td>VOLKS-,HAUPTSCHULE</td>\n",
       "      <td>2500</td>\n",
       "      <td>ALTE BUNDESLAENDER</td>\n",
       "      <td>MANN</td>\n",
       "      <td>61</td>\n",
       "      <td>MITTEL</td>\n",
       "      <td>CDU-CSU</td>\n",
       "    </tr>\n",
       "    <tr>\n",
       "      <th>3</th>\n",
       "      <td>VOLKS-,HAUPTSCHULE</td>\n",
       "      <td>860</td>\n",
       "      <td>ALTE BUNDESLAENDER</td>\n",
       "      <td>FRAU</td>\n",
       "      <td>54</td>\n",
       "      <td>SEHR STARK</td>\n",
       "      <td>DIE LINKE</td>\n",
       "    </tr>\n",
       "    <tr>\n",
       "      <th>4</th>\n",
       "      <td>HOCHSCHULREIFE</td>\n",
       "      <td>VERWEIGERT</td>\n",
       "      <td>ALTE BUNDESLAENDER</td>\n",
       "      <td>MANN</td>\n",
       "      <td>71</td>\n",
       "      <td>SEHR STARK</td>\n",
       "      <td>KEINE ANGABE</td>\n",
       "    </tr>\n",
       "  </tbody>\n",
       "</table>\n",
       "</div>"
      ],
      "text/plain": [
       "                 educ       di01a            eastwest   sex age       pa02a  \\\n",
       "0      MITTLERE REIFE        1800  NEUE BUNDESLAENDER  FRAU  47       WENIG   \n",
       "1      MITTLERE REIFE        2000  NEUE BUNDESLAENDER  MANN  52       STARK   \n",
       "2  VOLKS-,HAUPTSCHULE        2500  ALTE BUNDESLAENDER  MANN  61      MITTEL   \n",
       "3  VOLKS-,HAUPTSCHULE         860  ALTE BUNDESLAENDER  FRAU  54  SEHR STARK   \n",
       "4      HOCHSCHULREIFE  VERWEIGERT  ALTE BUNDESLAENDER  MANN  71  SEHR STARK   \n",
       "\n",
       "           pv01  \n",
       "0     DIE LINKE  \n",
       "1           FDP  \n",
       "2       CDU-CSU  \n",
       "3     DIE LINKE  \n",
       "4  KEINE ANGABE  "
      ]
     },
     "execution_count": 52,
     "metadata": {},
     "output_type": "execute_result"
    }
   ],
   "source": [
    "import pandas as pd\n",
    "temp_table = pd.read_stata('allbus2016.dta', columns=['educ', 'di01a', 'eastwest', 'sex', 'age', 'pa02a', 'pv01'])\n",
    "data = pd.DataFrame(temp_table)\n",
    "data.head()"
   ]
  },
  {
   "cell_type": "code",
   "execution_count": 54,
   "metadata": {},
   "outputs": [
    {
     "data": {
      "text/plain": [
       "educ            MITTLERE REIFE\n",
       "di01a                     1800\n",
       "eastwest    NEUE BUNDESLAENDER\n",
       "sex                       FRAU\n",
       "age                         47\n",
       "pa02a                    WENIG\n",
       "pv01                 DIE LINKE\n",
       "Name: 0, dtype: object"
      ]
     },
     "execution_count": 54,
     "metadata": {},
     "output_type": "execute_result"
    }
   ],
   "source": [
    "data.iloc[0]"
   ]
  },
  {
   "cell_type": "code",
   "execution_count": 62,
   "metadata": {},
   "outputs": [
    {
     "name": "stdout",
     "output_type": "stream",
     "text": [
      "Result:  11.2429378531 % of all men voted for AFD.\n"
     ]
    }
   ],
   "source": [
    "numb_men = data[(data['sex'] == \"MANN\")].count()[2]\n",
    "afd_men = data[(data['sex'] == \"MANN\") & (data['pv01'] == \"AFD\")].count()[2]\n",
    "print(\"Result: \", 100*afd_men/numb_men, \"% of all men voted for AFD.\")"
   ]
  },
  {
   "cell_type": "code",
   "execution_count": 63,
   "metadata": {},
   "outputs": [
    {
     "name": "stdout",
     "output_type": "stream",
     "text": [
      "Result:  5.11627906977 % of all women voted for AFD.\n"
     ]
    }
   ],
   "source": [
    "numb_women = data[(data['sex'] == \"FRAU\")].count()[2]\n",
    "afd_women = data[(data['sex'] == \"FRAU\") & (data['pv01'] == \"AFD\")].count()[2]\n",
    "print(\"Result: \", 100*afd_women/numb_women, \"% of all women voted for AFD.\")"
   ]
  },
  {
   "cell_type": "code",
   "execution_count": 64,
   "metadata": {},
   "outputs": [
    {
     "name": "stdout",
     "output_type": "stream",
     "text": [
      "Result:  8.95779500431 % of all men voted for AFD in East Germany.\n"
     ]
    }
   ],
   "source": [
    "numb_men = data[(data['sex'] == \"MANN\") & (data['eastwest'] == \"ALTE BUNDESLAENDER\")].count()[2]\n",
    "afd_men = data[(data['sex'] == \"MANN\") & (data['pv01'] == \"AFD\") & (data['eastwest'] == \"ALTE BUNDESLAENDER\")].count()[2]\n",
    "print(\"Result: \", 100*afd_men/numb_men, \"% of all men voted for AFD in East Germany.\")"
   ]
  },
  {
   "cell_type": "code",
   "execution_count": 65,
   "metadata": {},
   "outputs": [
    {
     "name": "stdout",
     "output_type": "stream",
     "text": [
      "Result:  15.5993431856 % of all men voted for AFD in West Germany.\n"
     ]
    }
   ],
   "source": [
    "numb_men = data[(data['sex'] == \"MANN\") & (data['eastwest'] == \"NEUE BUNDESLAENDER\")].count()[2]\n",
    "afd_men = data[(data['sex'] == \"MANN\") & (data['pv01'] == \"AFD\") & (data['eastwest'] == \"NEUE BUNDESLAENDER\")].count()[2]\n",
    "print(\"Result: \", 100*afd_men/numb_men, \"% of all men voted for AFD in West Germany.\")"
   ]
  },
  {
   "cell_type": "code",
   "execution_count": 66,
   "metadata": {},
   "outputs": [
    {
     "name": "stdout",
     "output_type": "stream",
     "text": [
      "Result:  3.78006872852 % of all women voted for AFD in East Germany.\n"
     ]
    }
   ],
   "source": [
    "numb_women = data[(data['sex'] == \"FRAU\") & (data['eastwest'] == \"ALTE BUNDESLAENDER\")].count()[2]\n",
    "afd_women = data[(data['sex'] == \"FRAU\") & (data['pv01'] == \"AFD\") & (data['eastwest'] == \"ALTE BUNDESLAENDER\")].count()[2]\n",
    "print(\"Result: \", 100*afd_women/numb_women, \"% of all women voted for AFD in East Germany.\")"
   ]
  },
  {
   "cell_type": "code",
   "execution_count": 67,
   "metadata": {},
   "outputs": [
    {
     "name": "stdout",
     "output_type": "stream",
     "text": [
      "Result:  7.91366906475 % of all women voted for AFD in West Germany.\n"
     ]
    }
   ],
   "source": [
    "numb_women = data[(data['sex'] == \"FRAU\") & (data['eastwest'] == \"NEUE BUNDESLAENDER\")].count()[2]\n",
    "afd_women = data[(data['sex'] == \"FRAU\") & (data['pv01'] == \"AFD\") & (data['eastwest'] == \"NEUE BUNDESLAENDER\")].count()[2]\n",
    "print(\"Result: \", 100*afd_women/numb_women, \"% of all women voted for AFD in West Germany.\")"
   ]
  },
  {
   "cell_type": "code",
   "execution_count": 68,
   "metadata": {},
   "outputs": [
    {
     "name": "stdout",
     "output_type": "stream",
     "text": [
      "Result:  8.02187784868 % of all people with more than 1500€ income voted for AFD.\n"
     ]
    }
   ],
   "source": [
    "numb_rich = data[(data['di01a'] > 1500)].count()[2]\n",
    "numb_rich_afd = data[(data['di01a'] > 1500) & (data['pv01'] == \"AFD\")].count()[2]\n",
    "print(\"Result: \", 100*numb_rich_afd/numb_rich, \"% of all people with more than 1500€ income voted for AFD.\")"
   ]
  },
  {
   "cell_type": "code",
   "execution_count": 69,
   "metadata": {},
   "outputs": [
    {
     "name": "stdout",
     "output_type": "stream",
     "text": [
      "Result:  8.31592143753 % of all people with less or equal than 1500€ income voted for AFD.\n"
     ]
    }
   ],
   "source": [
    "numb_poor = data[(data['di01a'] <= 1500)].count()[2]\n",
    "numb_poor_afd = data[(data['di01a'] <= 1500) & (data['pv01'] == \"AFD\")].count()[2]\n",
    "print(\"Result: \", 100*numb_poor_afd/numb_poor, \"% of all people with less or equal than 1500€ income voted for AFD.\")"
   ]
  },
  {
   "cell_type": "code",
   "execution_count": 70,
   "metadata": {},
   "outputs": [
    {
     "name": "stdout",
     "output_type": "stream",
     "text": [
      "Result:  8.75 % of all people older than 50 voted for AFD.\n"
     ]
    }
   ],
   "source": [
    "numb_old = data[(data['age'] > 50)].count()[2]\n",
    "numb_old_afd = data[(data['age'] > 50) & (data['pv01'] == \"AFD\")].count()[2]\n",
    "print(\"Result: \", 100*numb_old_afd/numb_old, \"% of all people older than 50 voted for AFD.\")"
   ]
  },
  {
   "cell_type": "code",
   "execution_count": 71,
   "metadata": {},
   "outputs": [
    {
     "name": "stdout",
     "output_type": "stream",
     "text": [
      "Result:  7.63636363636 % of all people younger than 50 voted for AFD.\n"
     ]
    }
   ],
   "source": [
    "numb_young = data[(data['age'] <= 50)].count()[2]\n",
    "numb_yount_afd = data[(data['age'] <= 50) & (data['pv01'] == \"AFD\")].count()[2]\n",
    "print(\"Result: \", 100*numb_yount_afd/numb_young, \"% of all people younger than 50 voted for AFD.\")"
   ]
  },
  {
   "cell_type": "code",
   "execution_count": null,
   "metadata": {
    "collapsed": true
   },
   "outputs": [],
   "source": []
  }
 ],
 "metadata": {
  "kernelspec": {
   "display_name": "Python 3",
   "language": "python",
   "name": "python3"
  },
  "language_info": {
   "codemirror_mode": {
    "name": "ipython",
    "version": 3
   },
   "file_extension": ".py",
   "mimetype": "text/x-python",
   "name": "python",
   "nbconvert_exporter": "python",
   "pygments_lexer": "ipython3",
   "version": "3.6.3"
  }
 },
 "nbformat": 4,
 "nbformat_minor": 2
}
